{
 "cells": [
  {
   "cell_type": "code",
   "execution_count": 10,
   "metadata": {
    "collapsed": true
   },
   "outputs": [],
   "source": [
    "%matplotlib inline"
   ]
  },
  {
   "cell_type": "code",
   "execution_count": 11,
   "metadata": {},
   "outputs": [],
   "source": [
    "from pylab import *"
   ]
  },
  {
   "cell_type": "code",
   "execution_count": 12,
   "metadata": {},
   "outputs": [],
   "source": [
    "df = pandas.read_csv('~/Documents/matfyz/rocnikac/songs_with_lyrics', sep=';', quotechar='\"', names=['userID', 'songId', 'artist', 'songTitle', 'lyrics'], engine='python', error_bad_lines=False)\n"
   ]
  },
  {
   "cell_type": "code",
   "execution_count": 3,
   "metadata": {},
   "outputs": [],
   "source": [
    "import pandas\n",
    "df = pandas.read_csv('~/Documents/matfyz/rocnikac/songs_with_lyrics', sep=';', quotechar='\"', names=['userID', 'songId', 'artist', 'songTitle', 'lyrics'], engine='python', error_bad_lines=False)\n",
    "\n"
   ]
  },
  {
   "cell_type": "code",
   "execution_count": 4,
   "metadata": {},
   "outputs": [
    {
     "name": "stdout",
     "output_type": "stream",
     "text": [
      "The number of unique users is: 45054\n"
     ]
    }
   ],
   "source": [
    "users = df.drop_duplicates(subset=['userID'])\n",
    "print(\"The number of unique users is: \" + str(users.shape[0]))\n",
    "ds = df[['songTitle', 'userID']].groupby('userID').agg(['count'])"
   ]
  },
  {
   "cell_type": "code",
   "execution_count": 5,
   "metadata": {},
   "outputs": [
    {
     "ename": "NameError",
     "evalue": "name 'plot' is not defined",
     "traceback": [
      "\u001b[0;31m---------------------------------------------------------------------------\u001b[0m",
      "\u001b[0;31mNameError\u001b[0m                                 Traceback (most recent call last)",
      "\u001b[0;32m<ipython-input-5-c8ccdbc0e326>\u001b[0m in \u001b[0;36m<module>\u001b[0;34m()\u001b[0m\n\u001b[0;32m----> 1\u001b[0;31m \u001b[0mplot\u001b[0m\u001b[0;34m(\u001b[0m\u001b[0mds\u001b[0m\u001b[0;34m)\u001b[0m\u001b[0;34m\u001b[0m\u001b[0m\n\u001b[0m",
      "\u001b[0;31mNameError\u001b[0m: name 'plot' is not defined"
     ],
     "output_type": "error"
    }
   ],
   "source": [
    "plot(ds)"
   ]
  },
  {
   "cell_type": "code",
   "execution_count": 6,
   "metadata": {},
   "outputs": [
    {
     "data": {
      "text/plain": [
       "<matplotlib.axes._subplots.AxesSubplot at 0x11abbeb38>"
      ]
     },
     "execution_count": 6,
     "metadata": {},
     "output_type": "execute_result"
    },
    {
     "data": {
      "image/png": "[encoded data removed]",
      "text/plain": [
       "<Figure size 432x288 with 1 Axes>"
      ]
     },
     "metadata": {},
     "output_type": "display_data"
    }
   ],
   "source": [
    "ds.plot()"
   ]
  },
  {
   "cell_type": "code",
   "execution_count": 4,
   "metadata": {},
   "outputs": [],
   "source": [
    "dSong = df[['songTitle', 'userID']].groupby('songTitle').agg(['count'])"
   ]
  },
  {
   "cell_type": "code",
   "execution_count": 9,
   "metadata": {},
   "outputs": [],
   "source": [
    "dSong = df[['songTitle', 'userID']].groupby('songTitle').agg(['count'])"
   ]
  },
  {
   "cell_type": "code",
   "execution_count": 10,
   "metadata": {},
   "outputs": [],
   "source": [
    "meanSongs = dSong.mean(axis=0)"
   ]
  },
  {
   "cell_type": "code",
   "execution_count": 11,
   "metadata": {},
   "outputs": [
    {
     "name": "stdout",
     "output_type": "stream",
     "text": [
      "userID  count    10.841486\n",
      "dtype: float64\n"
     ]
    }
   ],
   "source": [
    "print(meanSongs)"
   ]
  },
  {
   "cell_type": "code",
   "execution_count": 12,
   "metadata": {},
   "outputs": [],
   "source": [
    "allSongs = dSong.count(axis=0)"
   ]
  },
  {
   "cell_type": "code",
   "execution_count": 13,
   "metadata": {},
   "outputs": [
    {
     "name": "stdout",
     "output_type": "stream",
     "text": [
      "userID  count    14800\n",
      "dtype: int64\n"
     ]
    }
   ],
   "source": [
    "print(allSongs)"
   ]
  },
  {
   "cell_type": "code",
   "execution_count": 14,
   "metadata": {},
   "outputs": [
    {
     "name": "stdout",
     "output_type": "stream",
     "text": [
      "songTitle  count    45054\n",
      "dtype: int64\n"
     ]
    }
   ],
   "source": [
    "allSongs = ds.count(axis=0)\n",
    "print(allSongs)"
   ]
  },
  {
   "cell_type": "code",
   "execution_count": 15,
   "metadata": {},
   "outputs": [
    {
     "data": {
      "text/plain": [
       "songTitle  count    160454\n",
       "dtype: int64"
      ]
     },
     "execution_count": 15,
     "metadata": {},
     "output_type": "execute_result"
    }
   ],
   "source": [
    "ds.sum(axis=0)\n"
   ]
  },
  {
   "cell_type": "code",
   "execution_count": 16,
   "metadata": {},
   "outputs": [
    {
     "data": {
      "text/plain": [
       "3.5613707994850623"
      ]
     },
     "execution_count": 16,
     "metadata": {},
     "output_type": "execute_result"
    }
   ],
   "source": [
    "160454/45054"
   ]
  },
  {
   "cell_type": "code",
   "execution_count": 17,
   "metadata": {},
   "outputs": [
    {
     "data": {
      "text/plain": [
       "userID  count    160454\n",
       "dtype: int64"
      ]
     },
     "execution_count": 17,
     "metadata": {},
     "output_type": "execute_result"
    }
   ],
   "source": [
    "dSong.sum(axis=0)"
   ]
  },
  {
   "cell_type": "code",
   "execution_count": 18,
   "metadata": {},
   "outputs": [
    {
     "data": {
      "text/plain": [
       "userID  count    160454\n",
       "dtype: int64"
      ]
     },
     "execution_count": 18,
     "metadata": {},
     "output_type": "execute_result"
    }
   ],
   "source": [
    "dSong.sum()"
   ]
  },
  {
   "cell_type": "code",
   "execution_count": 19,
   "metadata": {},
   "outputs": [
    {
     "data": {
      "text/html": [
       "<div>\n",
       "<style scoped>\n",
       "    .dataframe tbody tr th:only-of-type {\n",
       "        vertical-align: middle;\n",
       "    }\n",
       "\n",
       "    .dataframe tbody tr th {\n",
       "        vertical-align: top;\n",
       "    }\n",
       "\n",
       "    .dataframe thead tr th {\n",
       "        text-align: left;\n",
       "    }\n",
       "\n",
       "    .dataframe thead tr:last-of-type th {\n",
       "        text-align: right;\n",
       "    }\n",
       "</style>\n",
       "<table border=\"1\" class=\"dataframe\">\n",
       "  <thead>\n",
       "    <tr>\n",
       "      <th></th>\n",
       "      <th>songTitle</th>\n",
       "    </tr>\n",
       "    <tr>\n",
       "      <th></th>\n",
       "      <th>count</th>\n",
       "    </tr>\n",
       "    <tr>\n",
       "      <th>userID</th>\n",
       "      <th></th>\n",
       "    </tr>\n",
       "  </thead>\n",
       "  <tbody>\n",
       "    <tr>\n",
       "      <th>000630f25bedb6961a16ea06af4cb767</th>\n",
       "      <td>2</td>\n",
       "    </tr>\n",
       "    <tr>\n",
       "      <th>0006ae6ee011ca4c8fa1db13b1c392ae</th>\n",
       "      <td>1</td>\n",
       "    </tr>\n",
       "    <tr>\n",
       "      <th>00073ff62d0ec8b7b8352b5ebdd5f871</th>\n",
       "      <td>1</td>\n",
       "    </tr>\n",
       "    <tr>\n",
       "      <th>00094b03d216fcfb1abfc0aed9161f6b</th>\n",
       "      <td>2</td>\n",
       "    </tr>\n",
       "    <tr>\n",
       "      <th>000a166b10c82cd44c6f0b2f0b08b263</th>\n",
       "      <td>1</td>\n",
       "    </tr>\n",
       "    <tr>\n",
       "      <th>000a94f5175aae020ac5ba2b9e14b05f</th>\n",
       "      <td>2</td>\n",
       "    </tr>\n",
       "    <tr>\n",
       "      <th>000c681d6cf80341239ca6708b4bfe49</th>\n",
       "      <td>1</td>\n",
       "    </tr>\n",
       "    <tr>\n",
       "      <th>000c99093ba7a5accbe9a10b1f2ed836</th>\n",
       "      <td>2</td>\n",
       "    </tr>\n",
       "    <tr>\n",
       "      <th>000dcb4d0c9e78c333e10b80bacb9562</th>\n",
       "      <td>2</td>\n",
       "    </tr>\n",
       "    <tr>\n",
       "      <th>000e553984fd0aea9478a27f8ed66ca6</th>\n",
       "      <td>4</td>\n",
       "    </tr>\n",
       "    <tr>\n",
       "      <th>000e6e8b6c3b27efd81605e3d7afa083</th>\n",
       "      <td>2</td>\n",
       "    </tr>\n",
       "    <tr>\n",
       "      <th>000fe63774779259834df532eebcb291</th>\n",
       "      <td>1</td>\n",
       "    </tr>\n",
       "    <tr>\n",
       "      <th>0013eeeb72a35d9bd5e1c50e959d975d</th>\n",
       "      <td>1</td>\n",
       "    </tr>\n",
       "    <tr>\n",
       "      <th>0014b1fa6082a51210c26ecc1543f7db</th>\n",
       "      <td>1</td>\n",
       "    </tr>\n",
       "    <tr>\n",
       "      <th>00154d94b9b1c53df93b842fc9118709</th>\n",
       "      <td>2</td>\n",
       "    </tr>\n",
       "    <tr>\n",
       "      <th>0015743830781513e2d26c33d54ca13c</th>\n",
       "      <td>19</td>\n",
       "    </tr>\n",
       "    <tr>\n",
       "      <th>0016ea13fd329ce7dec7204fb2644646</th>\n",
       "      <td>1</td>\n",
       "    </tr>\n",
       "    <tr>\n",
       "      <th>00178b5f45cc2d14d04704df17b9bd9c</th>\n",
       "      <td>2</td>\n",
       "    </tr>\n",
       "    <tr>\n",
       "      <th>001943fb1cd083ee432559690051a780</th>\n",
       "      <td>1</td>\n",
       "    </tr>\n",
       "    <tr>\n",
       "      <th>0019511a75d7a2d38f8973f46f2f88c0</th>\n",
       "      <td>1</td>\n",
       "    </tr>\n",
       "    <tr>\n",
       "      <th>0019a6a6a891b65aa934d1e307d216fd</th>\n",
       "      <td>2</td>\n",
       "    </tr>\n",
       "    <tr>\n",
       "      <th>001ae945b9d836e9d51f9bba994b6f63</th>\n",
       "      <td>2</td>\n",
       "    </tr>\n",
       "    <tr>\n",
       "      <th>001b9a8f7e57fc4ddda54089115265d3</th>\n",
       "      <td>1</td>\n",
       "    </tr>\n",
       "    <tr>\n",
       "      <th>001c9c369c2984e8c3f72e48d63272e3</th>\n",
       "      <td>5</td>\n",
       "    </tr>\n",
       "    <tr>\n",
       "      <th>001e470d4fb755b62ff0804a67b3f648</th>\n",
       "      <td>2</td>\n",
       "    </tr>\n",
       "    <tr>\n",
       "      <th>001ea6cd70b7da5ed9238ebcab62d299</th>\n",
       "      <td>1</td>\n",
       "    </tr>\n",
       "    <tr>\n",
       "      <th>001ecfd37522248279a43842dc144786</th>\n",
       "      <td>6</td>\n",
       "    </tr>\n",
       "    <tr>\n",
       "      <th>002057171614b3c8df2abd4d035c54d9</th>\n",
       "      <td>1</td>\n",
       "    </tr>\n",
       "    <tr>\n",
       "      <th>0020614464876de71d183396e4b62335</th>\n",
       "      <td>1</td>\n",
       "    </tr>\n",
       "    <tr>\n",
       "      <th>002130da150c602d5b4684d223c0816b</th>\n",
       "      <td>3</td>\n",
       "    </tr>\n",
       "    <tr>\n",
       "      <th>...</th>\n",
       "      <td>...</td>\n",
       "    </tr>\n",
       "    <tr>\n",
       "      <th>ffcd4dc1eec37a09487c7e49fc0136c6</th>\n",
       "      <td>1</td>\n",
       "    </tr>\n",
       "    <tr>\n",
       "      <th>ffd21d0a9e6e3695a5d8348074d525cf</th>\n",
       "      <td>18</td>\n",
       "    </tr>\n",
       "    <tr>\n",
       "      <th>ffd2c6936372b06cd12614b7acdd8c1f</th>\n",
       "      <td>1</td>\n",
       "    </tr>\n",
       "    <tr>\n",
       "      <th>ffd6e00f8149012e14e03b76385900e6</th>\n",
       "      <td>1</td>\n",
       "    </tr>\n",
       "    <tr>\n",
       "      <th>ffd8b1f7c31c301eefa5f33011c826b0</th>\n",
       "      <td>4</td>\n",
       "    </tr>\n",
       "    <tr>\n",
       "      <th>ffd975de95ac9f6f6e42a3913f45a7a7</th>\n",
       "      <td>11</td>\n",
       "    </tr>\n",
       "    <tr>\n",
       "      <th>ffda7c1791811f38d448bcb7371ad2c4</th>\n",
       "      <td>6</td>\n",
       "    </tr>\n",
       "    <tr>\n",
       "      <th>ffdb3fad5389765887f45e9d424fbfc4</th>\n",
       "      <td>1</td>\n",
       "    </tr>\n",
       "    <tr>\n",
       "      <th>ffe0c2a64637a907ba9c671fba093a90</th>\n",
       "      <td>7</td>\n",
       "    </tr>\n",
       "    <tr>\n",
       "      <th>ffe17289890199c881268bb0d9dc7ff8</th>\n",
       "      <td>2</td>\n",
       "    </tr>\n",
       "    <tr>\n",
       "      <th>ffe1b2b37ada507c13d994bf9bbf1f79</th>\n",
       "      <td>1</td>\n",
       "    </tr>\n",
       "    <tr>\n",
       "      <th>ffe370ae665f74f669d488a577f83eca</th>\n",
       "      <td>1</td>\n",
       "    </tr>\n",
       "    <tr>\n",
       "      <th>ffe6dde37a76371602fad2720120a5fb</th>\n",
       "      <td>1</td>\n",
       "    </tr>\n",
       "    <tr>\n",
       "      <th>ffe7395ea6c84fed6eed78fd12d9fb33</th>\n",
       "      <td>2</td>\n",
       "    </tr>\n",
       "    <tr>\n",
       "      <th>ffe91fff70def89b24f8374021df4e39</th>\n",
       "      <td>1</td>\n",
       "    </tr>\n",
       "    <tr>\n",
       "      <th>ffe9f820046bb31f4c3c577822b4e46c</th>\n",
       "      <td>2</td>\n",
       "    </tr>\n",
       "    <tr>\n",
       "      <th>ffea29f60499a2b73769a20eba218d4d</th>\n",
       "      <td>1</td>\n",
       "    </tr>\n",
       "    <tr>\n",
       "      <th>ffeb2aaa7856eab47d68a068578ccea8</th>\n",
       "      <td>1</td>\n",
       "    </tr>\n",
       "    <tr>\n",
       "      <th>ffebf01ece630379fd0bee1675e5e76d</th>\n",
       "      <td>2</td>\n",
       "    </tr>\n",
       "    <tr>\n",
       "      <th>ffee36360672bedcb87b7b224efa6df3</th>\n",
       "      <td>1</td>\n",
       "    </tr>\n",
       "    <tr>\n",
       "      <th>ffee7b001e57fc2222eb40432cb7e142</th>\n",
       "      <td>1</td>\n",
       "    </tr>\n",
       "    <tr>\n",
       "      <th>ffeeac814e80aff32bd1bbd7b3c58071</th>\n",
       "      <td>1</td>\n",
       "    </tr>\n",
       "    <tr>\n",
       "      <th>fff0641b91d87e025d4f0a39c832e6e9</th>\n",
       "      <td>4</td>\n",
       "    </tr>\n",
       "    <tr>\n",
       "      <th>fff06be42445de6588854f5fa15108dd</th>\n",
       "      <td>3</td>\n",
       "    </tr>\n",
       "    <tr>\n",
       "      <th>fff07de5ddad8d1bf0051fd6e8d38736</th>\n",
       "      <td>2</td>\n",
       "    </tr>\n",
       "    <tr>\n",
       "      <th>fff744d21e2176df43c87f033f0fccf7</th>\n",
       "      <td>4</td>\n",
       "    </tr>\n",
       "    <tr>\n",
       "      <th>fff7b4878f27b3e8bceb7c19247d5c6a</th>\n",
       "      <td>2</td>\n",
       "    </tr>\n",
       "    <tr>\n",
       "      <th>fff7c3f081d66cd8bde7e04c42b125da</th>\n",
       "      <td>1</td>\n",
       "    </tr>\n",
       "    <tr>\n",
       "      <th>fffe463b425de5974b229485af18dde7</th>\n",
       "      <td>1</td>\n",
       "    </tr>\n",
       "    <tr>\n",
       "      <th>ffff0a34242bd2a62302058eaa8652d2</th>\n",
       "      <td>3</td>\n",
       "    </tr>\n",
       "  </tbody>\n",
       "</table>\n",
       "<p>45054 rows × 1 columns</p>\n",
       "</div>"
      ],
      "text/plain": [
       "<div>\n",
       "<style scoped>\n",
       "    .dataframe tbody tr th:only-of-type {\n",
       "        vertical-align: middle;\n",
       "    }\n",
       "\n",
       "    .dataframe tbody tr th {\n",
       "        vertical-align: top;\n",
       "    }\n",
       "\n",
       "    .dataframe thead tr th {\n",
       "        text-align: left;\n",
       "    }\n",
       "\n",
       "    .dataframe thead tr:last-of-type th {\n",
       "        text-align: right;\n",
       "    }\n",
       "</style>\n",
       "<table border=\"1\" class=\"dataframe\">\n",
       "  <thead>\n",
       "    <tr>\n",
       "      <th></th>\n",
       "      <th>songTitle</th>\n",
       "    </tr>\n",
       "    <tr>\n",
       "      <th></th>\n",
       "      <th>count</th>\n",
       "    </tr>\n",
       "    <tr>\n",
       "      <th>userID</th>\n",
       "      <th></th>\n",
       "    </tr>\n",
       "  </thead>\n",
       "  <tbody>\n",
       "    <tr>\n",
       "      <th>000630f25bedb6961a16ea06af4cb767</th>\n",
       "      <td>2</td>\n",
       "    </tr>\n",
       "    <tr>\n",
       "      <th>0006ae6ee011ca4c8fa1db13b1c392ae</th>\n",
       "      <td>1</td>\n",
       "    </tr>\n",
       "    <tr>\n",
       "      <th>00073ff62d0ec8b7b8352b5ebdd5f871</th>\n",
       "      <td>1</td>\n",
       "    </tr>\n",
       "    <tr>\n",
       "      <th>00094b03d216fcfb1abfc0aed9161f6b</th>\n",
       "      <td>2</td>\n",
       "    </tr>\n",
       "    <tr>\n",
       "      <th>000a166b10c82cd44c6f0b2f0b08b263</th>\n",
       "      <td>1</td>\n",
       "    </tr>\n",
       "    <tr>\n",
       "      <th>000a94f5175aae020ac5ba2b9e14b05f</th>\n",
       "      <td>2</td>\n",
       "    </tr>\n",
       "    <tr>\n",
       "      <th>000c681d6cf80341239ca6708b4bfe49</th>\n",
       "      <td>1</td>\n",
       "    </tr>\n",
       "    <tr>\n",
       "      <th>000c99093ba7a5accbe9a10b1f2ed836</th>\n",
       "      <td>2</td>\n",
       "    </tr>\n",
       "    <tr>\n",
       "      <th>000dcb4d0c9e78c333e10b80bacb9562</th>\n",
       "      <td>2</td>\n",
       "    </tr>\n",
       "    <tr>\n",
       "      <th>000e553984fd0aea9478a27f8ed66ca6</th>\n",
       "      <td>4</td>\n",
       "    </tr>\n",
       "    <tr>\n",
       "      <th>000e6e8b6c3b27efd81605e3d7afa083</th>\n",
       "      <td>2</td>\n",
       "    </tr>\n",
       "    <tr>\n",
       "      <th>000fe63774779259834df532eebcb291</th>\n",
       "      <td>1</td>\n",
       "    </tr>\n",
       "    <tr>\n",
       "      <th>0013eeeb72a35d9bd5e1c50e959d975d</th>\n",
       "      <td>1</td>\n",
       "    </tr>\n",
       "    <tr>\n",
       "      <th>0014b1fa6082a51210c26ecc1543f7db</th>\n",
       "      <td>1</td>\n",
       "    </tr>\n",
       "    <tr>\n",
       "      <th>00154d94b9b1c53df93b842fc9118709</th>\n",
       "      <td>2</td>\n",
       "    </tr>\n",
       "    <tr>\n",
       "      <th>0015743830781513e2d26c33d54ca13c</th>\n",
       "      <td>19</td>\n",
       "    </tr>\n",
       "    <tr>\n",
       "      <th>0016ea13fd329ce7dec7204fb2644646</th>\n",
       "      <td>1</td>\n",
       "    </tr>\n",
       "    <tr>\n",
       "      <th>00178b5f45cc2d14d04704df17b9bd9c</th>\n",
       "      <td>2</td>\n",
       "    </tr>\n",
       "    <tr>\n",
       "      <th>001943fb1cd083ee432559690051a780</th>\n",
       "      <td>1</td>\n",
       "    </tr>\n",
       "    <tr>\n",
       "      <th>0019511a75d7a2d38f8973f46f2f88c0</th>\n",
       "      <td>1</td>\n",
       "    </tr>\n",
       "    <tr>\n",
       "      <th>0019a6a6a891b65aa934d1e307d216fd</th>\n",
       "      <td>2</td>\n",
       "    </tr>\n",
       "    <tr>\n",
       "      <th>001ae945b9d836e9d51f9bba994b6f63</th>\n",
       "      <td>2</td>\n",
       "    </tr>\n",
       "    <tr>\n",
       "      <th>001b9a8f7e57fc4ddda54089115265d3</th>\n",
       "      <td>1</td>\n",
       "    </tr>\n",
       "    <tr>\n",
       "      <th>001c9c369c2984e8c3f72e48d63272e3</th>\n",
       "      <td>5</td>\n",
       "    </tr>\n",
       "    <tr>\n",
       "      <th>001e470d4fb755b62ff0804a67b3f648</th>\n",
       "      <td>2</td>\n",
       "    </tr>\n",
       "    <tr>\n",
       "      <th>001ea6cd70b7da5ed9238ebcab62d299</th>\n",
       "      <td>1</td>\n",
       "    </tr>\n",
       "    <tr>\n",
       "      <th>001ecfd37522248279a43842dc144786</th>\n",
       "      <td>6</td>\n",
       "    </tr>\n",
       "    <tr>\n",
       "      <th>002057171614b3c8df2abd4d035c54d9</th>\n",
       "      <td>1</td>\n",
       "    </tr>\n",
       "    <tr>\n",
       "      <th>0020614464876de71d183396e4b62335</th>\n",
       "      <td>1</td>\n",
       "    </tr>\n",
       "    <tr>\n",
       "      <th>002130da150c602d5b4684d223c0816b</th>\n",
       "      <td>3</td>\n",
       "    </tr>\n",
       "    <tr>\n",
       "      <th>...</th>\n",
       "      <td>...</td>\n",
       "    </tr>\n",
       "    <tr>\n",
       "      <th>ffcd4dc1eec37a09487c7e49fc0136c6</th>\n",
       "      <td>1</td>\n",
       "    </tr>\n",
       "    <tr>\n",
       "      <th>ffd21d0a9e6e3695a5d8348074d525cf</th>\n",
       "      <td>18</td>\n",
       "    </tr>\n",
       "    <tr>\n",
       "      <th>ffd2c6936372b06cd12614b7acdd8c1f</th>\n",
       "      <td>1</td>\n",
       "    </tr>\n",
       "    <tr>\n",
       "      <th>ffd6e00f8149012e14e03b76385900e6</th>\n",
       "      <td>1</td>\n",
       "    </tr>\n",
       "    <tr>\n",
       "      <th>ffd8b1f7c31c301eefa5f33011c826b0</th>\n",
       "      <td>4</td>\n",
       "    </tr>\n",
       "    <tr>\n",
       "      <th>ffd975de95ac9f6f6e42a3913f45a7a7</th>\n",
       "      <td>11</td>\n",
       "    </tr>\n",
       "    <tr>\n",
       "      <th>ffda7c1791811f38d448bcb7371ad2c4</th>\n",
       "      <td>6</td>\n",
       "    </tr>\n",
       "    <tr>\n",
       "      <th>ffdb3fad5389765887f45e9d424fbfc4</th>\n",
       "      <td>1</td>\n",
       "    </tr>\n",
       "    <tr>\n",
       "      <th>ffe0c2a64637a907ba9c671fba093a90</th>\n",
       "      <td>7</td>\n",
       "    </tr>\n",
       "    <tr>\n",
       "      <th>ffe17289890199c881268bb0d9dc7ff8</th>\n",
       "      <td>2</td>\n",
       "    </tr>\n",
       "    <tr>\n",
       "      <th>ffe1b2b37ada507c13d994bf9bbf1f79</th>\n",
       "      <td>1</td>\n",
       "    </tr>\n",
       "    <tr>\n",
       "      <th>ffe370ae665f74f669d488a577f83eca</th>\n",
       "      <td>1</td>\n",
       "    </tr>\n",
       "    <tr>\n",
       "      <th>ffe6dde37a76371602fad2720120a5fb</th>\n",
       "      <td>1</td>\n",
       "    </tr>\n",
       "    <tr>\n",
       "      <th>ffe7395ea6c84fed6eed78fd12d9fb33</th>\n",
       "      <td>2</td>\n",
       "    </tr>\n",
       "    <tr>\n",
       "      <th>ffe91fff70def89b24f8374021df4e39</th>\n",
       "      <td>1</td>\n",
       "    </tr>\n",
       "    <tr>\n",
       "      <th>ffe9f820046bb31f4c3c577822b4e46c</th>\n",
       "      <td>2</td>\n",
       "    </tr>\n",
       "    <tr>\n",
       "      <th>ffea29f60499a2b73769a20eba218d4d</th>\n",
       "      <td>1</td>\n",
       "    </tr>\n",
       "    <tr>\n",
       "      <th>ffeb2aaa7856eab47d68a068578ccea8</th>\n",
       "      <td>1</td>\n",
       "    </tr>\n",
       "    <tr>\n",
       "      <th>ffebf01ece630379fd0bee1675e5e76d</th>\n",
       "      <td>2</td>\n",
       "    </tr>\n",
       "    <tr>\n",
       "      <th>ffee36360672bedcb87b7b224efa6df3</th>\n",
       "      <td>1</td>\n",
       "    </tr>\n",
       "    <tr>\n",
       "      <th>ffee7b001e57fc2222eb40432cb7e142</th>\n",
       "      <td>1</td>\n",
       "    </tr>\n",
       "    <tr>\n",
       "      <th>ffeeac814e80aff32bd1bbd7b3c58071</th>\n",
       "      <td>1</td>\n",
       "    </tr>\n",
       "    <tr>\n",
       "      <th>fff0641b91d87e025d4f0a39c832e6e9</th>\n",
       "      <td>4</td>\n",
       "    </tr>\n",
       "    <tr>\n",
       "      <th>fff06be42445de6588854f5fa15108dd</th>\n",
       "      <td>3</td>\n",
       "    </tr>\n",
       "    <tr>\n",
       "      <th>fff07de5ddad8d1bf0051fd6e8d38736</th>\n",
       "      <td>2</td>\n",
       "    </tr>\n",
       "    <tr>\n",
       "      <th>fff744d21e2176df43c87f033f0fccf7</th>\n",
       "      <td>4</td>\n",
       "    </tr>\n",
       "    <tr>\n",
       "      <th>fff7b4878f27b3e8bceb7c19247d5c6a</th>\n",
       "      <td>2</td>\n",
       "    </tr>\n",
       "    <tr>\n",
       "      <th>fff7c3f081d66cd8bde7e04c42b125da</th>\n",
       "      <td>1</td>\n",
       "    </tr>\n",
       "    <tr>\n",
       "      <th>fffe463b425de5974b229485af18dde7</th>\n",
       "      <td>1</td>\n",
       "    </tr>\n",
       "    <tr>\n",
       "      <th>ffff0a34242bd2a62302058eaa8652d2</th>\n",
       "      <td>3</td>\n",
       "    </tr>\n",
       "  </tbody>\n",
       "</table>\n",
       "<p>45054 rows × 1 columns</p>\n",
       "</div>"
      ]
     },
     "execution_count": 19,
     "metadata": {},
     "output_type": "execute_result"
    }
   ],
   "source": [
    "ds"
   ]
  },
  {
   "cell_type": "code",
   "execution_count": 20,
   "metadata": {},
   "outputs": [
    {
     "data": {
      "text/plain": [
       "array([[<matplotlib.axes._subplots.AxesSubplot object at 0x11afc9b38>]],\n",
       "      dtype=object)"
      ]
     },
     "execution_count": 20,
     "metadata": {},
     "output_type": "execute_result"
    },
    {
     "data": {
      "image/png": "[encoded data removed]",
      "text/plain": [
       "<Figure size 432x288 with 1 Axes>"
      ]
     },
     "metadata": {},
     "output_type": "display_data"
    }
   ],
   "source": [
    "ds.hist()"
   ]
  },
  {
   "cell_type": "code",
   "execution_count": 1,
   "metadata": {},
   "outputs": [
    {
     "ename": "NameError",
     "evalue": "name 'ds' is not defined",
     "traceback": [
      "\u001b[0;31m---------------------------------------------------------------------------\u001b[0m",
      "\u001b[0;31mNameError\u001b[0m                                 Traceback (most recent call last)",
      "\u001b[0;32m<ipython-input-1-8270460f0d67>\u001b[0m in \u001b[0;36m<module>\u001b[0;34m()\u001b[0m\n\u001b[0;32m----> 1\u001b[0;31m \u001b[0mds\u001b[0m\u001b[0;34m.\u001b[0m\u001b[0mmax\u001b[0m\u001b[0;34m(\u001b[0m\u001b[0;34m)\u001b[0m\u001b[0;34m\u001b[0m\u001b[0m\n\u001b[0m",
      "\u001b[0;31mNameError\u001b[0m: name 'ds' is not defined"
     ],
     "output_type": "error"
    }
   ],
   "source": [
    "ds.max()"
   ]
  },
  {
   "cell_type": "code",
   "execution_count": 2,
   "metadata": {},
   "outputs": [
    {
     "ename": "NameError",
     "evalue": "name 'df' is not defined",
     "traceback": [
      "\u001b[0;31m---------------------------------------------------------------------------\u001b[0m",
      "\u001b[0;31mNameError\u001b[0m                                 Traceback (most recent call last)",
      "\u001b[0;32m<ipython-input-2-e6fb654785d5>\u001b[0m in \u001b[0;36m<module>\u001b[0;34m()\u001b[0m\n\u001b[0;32m----> 1\u001b[0;31m \u001b[0mds\u001b[0m \u001b[0;34m=\u001b[0m \u001b[0mdf\u001b[0m\u001b[0;34m[\u001b[0m\u001b[0;34m[\u001b[0m\u001b[0;34m'songTitle'\u001b[0m\u001b[0;34m,\u001b[0m \u001b[0;34m'userID'\u001b[0m\u001b[0;34m]\u001b[0m\u001b[0;34m]\u001b[0m\u001b[0;34m.\u001b[0m\u001b[0mgroupby\u001b[0m\u001b[0;34m(\u001b[0m\u001b[0;34m'userID'\u001b[0m\u001b[0;34m)\u001b[0m\u001b[0;34m.\u001b[0m\u001b[0magg\u001b[0m\u001b[0;34m(\u001b[0m\u001b[0;34m[\u001b[0m\u001b[0;34m'count'\u001b[0m\u001b[0;34m]\u001b[0m\u001b[0;34m)\u001b[0m\u001b[0;34m\u001b[0m\u001b[0m\n\u001b[0m\u001b[1;32m      2\u001b[0m \u001b[0mds\u001b[0m\u001b[0;34m.\u001b[0m\u001b[0msum\u001b[0m\u001b[0;34m(\u001b[0m\u001b[0;34m)\u001b[0m\u001b[0;34m\u001b[0m\u001b[0m\n",
      "\u001b[0;31mNameError\u001b[0m: name 'df' is not defined"
     ],
     "output_type": "error"
    }
   ],
   "source": [
    "ds = df[['songTitle', 'userID']].groupby('userID').agg(['count'])\n",
    "ds.sum()"
   ]
  },
  {
   "cell_type": "code",
   "execution_count": 6,
   "metadata": {},
   "outputs": [
    {
     "data": {
      "text/plain": [
       "songTitle  count    160454\n",
       "dtype: int64"
      ]
     },
     "execution_count": 6,
     "metadata": {},
     "output_type": "execute_result"
    }
   ],
   "source": [
    "ds = df[['songTitle', 'userID']].groupby('userID').agg(['count'])\n",
    "ds.sum()"
   ]
  },
  {
   "cell_type": "code",
   "execution_count": 7,
   "metadata": {},
   "outputs": [
    {
     "ename": "AttributeError",
     "evalue": "'DataFrame' object has no attribute 'view'",
     "traceback": [
      "\u001b[0;31m---------------------------------------------------------------------------\u001b[0m",
      "\u001b[0;31mAttributeError\u001b[0m                            Traceback (most recent call last)",
      "\u001b[0;32m<ipython-input-7-af337921c8c3>\u001b[0m in \u001b[0;36m<module>\u001b[0;34m()\u001b[0m\n\u001b[0;32m----> 1\u001b[0;31m \u001b[0mds\u001b[0m\u001b[0;34m.\u001b[0m\u001b[0mview\u001b[0m\u001b[0;34m(\u001b[0m\u001b[0;34m)\u001b[0m\u001b[0;34m\u001b[0m\u001b[0m\n\u001b[0m",
      "\u001b[0;32m/Users/m_vys/.virtualenvs/rocnikac-KwZG9o7c/lib/python3.7/site-packages/pandas/core/generic.py\u001b[0m in \u001b[0;36m__getattr__\u001b[0;34m(self, name)\u001b[0m\n\u001b[1;32m   4374\u001b[0m             \u001b[0;32mif\u001b[0m \u001b[0mself\u001b[0m\u001b[0;34m.\u001b[0m\u001b[0m_info_axis\u001b[0m\u001b[0;34m.\u001b[0m\u001b[0m_can_hold_identifiers_and_holds_name\u001b[0m\u001b[0;34m(\u001b[0m\u001b[0mname\u001b[0m\u001b[0;34m)\u001b[0m\u001b[0;34m:\u001b[0m\u001b[0;34m\u001b[0m\u001b[0m\n\u001b[1;32m   4375\u001b[0m                 \u001b[0;32mreturn\u001b[0m \u001b[0mself\u001b[0m\u001b[0;34m[\u001b[0m\u001b[0mname\u001b[0m\u001b[0;34m]\u001b[0m\u001b[0;34m\u001b[0m\u001b[0m\n\u001b[0;32m-> 4376\u001b[0;31m             \u001b[0;32mreturn\u001b[0m \u001b[0mobject\u001b[0m\u001b[0;34m.\u001b[0m\u001b[0m__getattribute__\u001b[0m\u001b[0;34m(\u001b[0m\u001b[0mself\u001b[0m\u001b[0;34m,\u001b[0m \u001b[0mname\u001b[0m\u001b[0;34m)\u001b[0m\u001b[0;34m\u001b[0m\u001b[0m\n\u001b[0m\u001b[1;32m   4377\u001b[0m \u001b[0;34m\u001b[0m\u001b[0m\n\u001b[1;32m   4378\u001b[0m     \u001b[0;32mdef\u001b[0m \u001b[0m__setattr__\u001b[0m\u001b[0;34m(\u001b[0m\u001b[0mself\u001b[0m\u001b[0;34m,\u001b[0m \u001b[0mname\u001b[0m\u001b[0;34m,\u001b[0m \u001b[0mvalue\u001b[0m\u001b[0;34m)\u001b[0m\u001b[0;34m:\u001b[0m\u001b[0;34m\u001b[0m\u001b[0m\n",
      "\u001b[0;31mAttributeError\u001b[0m: 'DataFrame' object has no attribute 'view'"
     ],
     "output_type": "error"
    }
   ],
   "source": [
    "ds.view()"
   ]
  },
  {
   "cell_type": "code",
   "execution_count": 8,
   "metadata": {},
   "outputs": [
    {
     "ename": "ValueError",
     "evalue": "num must be 1 <= num <= 0, not 1",
     "traceback": [
      "\u001b[0;31m---------------------------------------------------------------------------\u001b[0m",
      "\u001b[0;31mValueError\u001b[0m                                Traceback (most recent call last)",
      "\u001b[0;32m<ipython-input-8-93ba34972454>\u001b[0m in \u001b[0;36m<module>\u001b[0;34m()\u001b[0m\n\u001b[0;32m----> 1\u001b[0;31m \u001b[0mdf\u001b[0m\u001b[0;34m.\u001b[0m\u001b[0mhist\u001b[0m\u001b[0;34m(\u001b[0m\u001b[0;34m)\u001b[0m\u001b[0;34m\u001b[0m\u001b[0m\n\u001b[0m",
      "\u001b[0;32m/Users/m_vys/.virtualenvs/rocnikac-KwZG9o7c/lib/python3.7/site-packages/pandas/plotting/_core.py\u001b[0m in \u001b[0;36mhist_frame\u001b[0;34m(data, column, by, grid, xlabelsize, xrot, ylabelsize, yrot, ax, sharex, sharey, figsize, layout, bins, **kwds)\u001b[0m\n\u001b[1;32m   2406\u001b[0m     fig, axes = _subplots(naxes=naxes, ax=ax, squeeze=False,\n\u001b[1;32m   2407\u001b[0m                           \u001b[0msharex\u001b[0m\u001b[0;34m=\u001b[0m\u001b[0msharex\u001b[0m\u001b[0;34m,\u001b[0m \u001b[0msharey\u001b[0m\u001b[0;34m=\u001b[0m\u001b[0msharey\u001b[0m\u001b[0;34m,\u001b[0m \u001b[0mfigsize\u001b[0m\u001b[0;34m=\u001b[0m\u001b[0mfigsize\u001b[0m\u001b[0;34m,\u001b[0m\u001b[0;34m\u001b[0m\u001b[0m\n\u001b[0;32m-> 2408\u001b[0;31m                           layout=layout)\n\u001b[0m\u001b[1;32m   2409\u001b[0m     \u001b[0m_axes\u001b[0m \u001b[0;34m=\u001b[0m \u001b[0m_flatten\u001b[0m\u001b[0;34m(\u001b[0m\u001b[0maxes\u001b[0m\u001b[0;34m)\u001b[0m\u001b[0;34m\u001b[0m\u001b[0m\n\u001b[1;32m   2410\u001b[0m \u001b[0;34m\u001b[0m\u001b[0m\n",
      "\u001b[0;32m/Users/m_vys/.virtualenvs/rocnikac-KwZG9o7c/lib/python3.7/site-packages/pandas/plotting/_tools.py\u001b[0m in \u001b[0;36m_subplots\u001b[0;34m(naxes, sharex, sharey, squeeze, subplot_kw, ax, layout, layout_type, **fig_kw)\u001b[0m\n\u001b[1;32m    236\u001b[0m \u001b[0;34m\u001b[0m\u001b[0m\n\u001b[1;32m    237\u001b[0m     \u001b[0;31m# Create first subplot separately, so we can share it if requested\u001b[0m\u001b[0;34m\u001b[0m\u001b[0;34m\u001b[0m\u001b[0m\n\u001b[0;32m--> 238\u001b[0;31m     \u001b[0max0\u001b[0m \u001b[0;34m=\u001b[0m \u001b[0mfig\u001b[0m\u001b[0;34m.\u001b[0m\u001b[0madd_subplot\u001b[0m\u001b[0;34m(\u001b[0m\u001b[0mnrows\u001b[0m\u001b[0;34m,\u001b[0m \u001b[0mncols\u001b[0m\u001b[0;34m,\u001b[0m \u001b[0;36m1\u001b[0m\u001b[0;34m,\u001b[0m \u001b[0;34m**\u001b[0m\u001b[0msubplot_kw\u001b[0m\u001b[0;34m)\u001b[0m\u001b[0;34m\u001b[0m\u001b[0m\n\u001b[0m\u001b[1;32m    239\u001b[0m \u001b[0;34m\u001b[0m\u001b[0m\n\u001b[1;32m    240\u001b[0m     \u001b[0;32mif\u001b[0m \u001b[0msharex\u001b[0m\u001b[0;34m:\u001b[0m\u001b[0;34m\u001b[0m\u001b[0m\n",
      "\u001b[0;32m/Users/m_vys/.virtualenvs/rocnikac-KwZG9o7c/lib/python3.7/site-packages/matplotlib/figure.py\u001b[0m in \u001b[0;36madd_subplot\u001b[0;34m(self, *args, **kwargs)\u001b[0m\n\u001b[1;32m   1368\u001b[0m                     \u001b[0mself\u001b[0m\u001b[0;34m.\u001b[0m\u001b[0m_axstack\u001b[0m\u001b[0;34m.\u001b[0m\u001b[0mremove\u001b[0m\u001b[0;34m(\u001b[0m\u001b[0max\u001b[0m\u001b[0;34m)\u001b[0m\u001b[0;34m\u001b[0m\u001b[0m\n\u001b[1;32m   1369\u001b[0m \u001b[0;34m\u001b[0m\u001b[0m\n\u001b[0;32m-> 1370\u001b[0;31m             \u001b[0ma\u001b[0m \u001b[0;34m=\u001b[0m \u001b[0msubplot_class_factory\u001b[0m\u001b[0;34m(\u001b[0m\u001b[0mprojection_class\u001b[0m\u001b[0;34m)\u001b[0m\u001b[0;34m(\u001b[0m\u001b[0mself\u001b[0m\u001b[0;34m,\u001b[0m \u001b[0;34m*\u001b[0m\u001b[0margs\u001b[0m\u001b[0;34m,\u001b[0m \u001b[0;34m**\u001b[0m\u001b[0mkwargs\u001b[0m\u001b[0;34m)\u001b[0m\u001b[0;34m\u001b[0m\u001b[0m\n\u001b[0m\u001b[1;32m   1371\u001b[0m         \u001b[0mself\u001b[0m\u001b[0;34m.\u001b[0m\u001b[0m_axstack\u001b[0m\u001b[0;34m.\u001b[0m\u001b[0madd\u001b[0m\u001b[0;34m(\u001b[0m\u001b[0mkey\u001b[0m\u001b[0;34m,\u001b[0m \u001b[0ma\u001b[0m\u001b[0;34m)\u001b[0m\u001b[0;34m\u001b[0m\u001b[0m\n\u001b[1;32m   1372\u001b[0m         \u001b[0mself\u001b[0m\u001b[0;34m.\u001b[0m\u001b[0msca\u001b[0m\u001b[0;34m(\u001b[0m\u001b[0ma\u001b[0m\u001b[0;34m)\u001b[0m\u001b[0;34m\u001b[0m\u001b[0m\n",
      "\u001b[0;32m/Users/m_vys/.virtualenvs/rocnikac-KwZG9o7c/lib/python3.7/site-packages/matplotlib/axes/_subplots.py\u001b[0m in \u001b[0;36m__init__\u001b[0;34m(self, fig, *args, **kwargs)\u001b[0m\n\u001b[1;32m     58\u001b[0m                     raise ValueError(\n\u001b[1;32m     59\u001b[0m                         (\"num must be 1 <= num <= {maxn}, not {num}\"\n\u001b[0;32m---> 60\u001b[0;31m                         ).format(maxn=rows*cols, num=num))\n\u001b[0m\u001b[1;32m     61\u001b[0m                 self._subplotspec = GridSpec(\n\u001b[1;32m     62\u001b[0m                         rows, cols, figure=self.figure)[int(num) - 1]\n",
      "\u001b[0;31mValueError\u001b[0m: num must be 1 <= num <= 0, not 1"
     ],
     "output_type": "error"
    }
   ],
   "source": [
    "df.hist()"
   ]
  },
  {
   "cell_type": "code",
   "execution_count": 1,
   "metadata": {},
   "outputs": [],
   "source": [
    "%matplotlib notebook\n"
   ]
  },
  {
   "cell_type": "code",
   "execution_count": 2,
   "metadata": {},
   "outputs": [],
   "source": [
    "import matplotlib.pyplot as plt"
   ]
  },
  {
   "cell_type": "code",
   "execution_count": 3,
   "metadata": {},
   "outputs": [
    {
     "ename": "NameError",
     "evalue": "name 'ds' is not defined",
     "traceback": [
      "\u001b[0;31m---------------------------------------------------------------------------\u001b[0m",
      "\u001b[0;31mNameError\u001b[0m                                 Traceback (most recent call last)",
      "\u001b[0;32m<ipython-input-3-02ca619ce1ce>\u001b[0m in \u001b[0;36m<module>\u001b[0;34m()\u001b[0m\n\u001b[0;32m----> 1\u001b[0;31m \u001b[0mplt\u001b[0m\u001b[0;34m.\u001b[0m\u001b[0mplot\u001b[0m\u001b[0;34m(\u001b[0m\u001b[0mds\u001b[0m\u001b[0;34m)\u001b[0m\u001b[0;34m\u001b[0m\u001b[0m\n\u001b[0m\u001b[1;32m      2\u001b[0m \u001b[0mplt\u001b[0m\u001b[0;34m.\u001b[0m\u001b[0mshow\u001b[0m\u001b[0;34m(\u001b[0m\u001b[0;34m)\u001b[0m\u001b[0;34m\u001b[0m\u001b[0m\n",
      "\u001b[0;31mNameError\u001b[0m: name 'ds' is not defined"
     ],
     "output_type": "error"
    }
   ],
   "source": [
    "plt.plot(ds)\n",
    "plt.show()"
   ]
  },
  {
   "cell_type": "code",
   "execution_count": null,
   "metadata": {},
   "outputs": [],
   "source": [
    "ds\n"
   ]
  },
  {
   "cell_type": "code",
   "execution_count": 5,
   "metadata": {},
   "outputs": [
    {
     "data": {
      "text/plain": [
       "<IPython.core.display.Javascript object>"
      ]
     },
     "metadata": {},
     "output_type": "display_data"
    },
    {
     "data": {
      "text/html": [
       "<img src=\"data:image/png;base64,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\" width=\"783\">"
      ],
      "text/plain": [
       "<IPython.core.display.HTML object>"
      ]
     },
     "metadata": {},
     "output_type": "execute_result"
    }
   ],
   "source": [
    "fig1 = plt.plot(dSong.values)"
   ]
  },
  {
   "cell_type": "code",
   "execution_count": null,
   "metadata": {},
   "outputs": [],
   "source": []
  }
 ],
 "metadata": {
  "kernelspec": {
   "display_name": "Python 3",
   "language": "python",
   "name": "python3"
  },
  "language_info": {
   "codemirror_mode": {
    "name": "ipython",
    "version": 3
   },
   "file_extension": ".py",
   "mimetype": "text/x-python",
   "name": "python",
   "nbconvert_exporter": "python",
   "pygments_lexer": "ipython3",
   "version": "3.7.0"
  }
 },
 "nbformat": 4,
 "nbformat_minor": 1
}
